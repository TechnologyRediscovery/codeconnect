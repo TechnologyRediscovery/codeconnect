{
 "cells": [
  {
   "cell_type": "code",
   "execution_count": 8,
   "metadata": {},
   "outputs": [
    {
     "name": "stdout",
     "output_type": "stream",
     "text": [
      "Insert was a success. Fuck yeah. \n"
     ]
    }
   ],
   "source": [
    "import csv\n",
    "import psycopg2\n",
    "\n",
    "CSV_FILE_ENCODING = 'utf-8'\n",
    "\n",
    "def main():\n",
    "    global PARID_FILE\n",
    "    PARID_FILE = 'parcelidlists/parcelandmunidata.csv'\n",
    "    \n",
    "    try:\n",
    "        add_munis()\n",
    "    except:\n",
    "        print(\"Error! Failed to insert munis.\")\n",
    "    \n",
    "db_conn = None\n",
    "def get_db_conn():\n",
    "    global db_conn\n",
    "    if db_conn is not None:\n",
    "        return db_conn\n",
    "    db_conn = psycopg2.connect(\n",
    "        dbname=\"csvtest\",\n",
    "        user=\"sylvia\",\n",
    "        password=\"c0d3\",\n",
    "        host=\"localhost\"\n",
    "    )\n",
    "    return db_conn\n",
    "\n",
    "\n",
    "def add_munis():\n",
    "    db_conn = get_db_conn()\n",
    "    cursor = db_conn.cursor()\n",
    "    \n",
    "    muni_insert_sql = \"\"\"INSERT INTO public.muni (muni_id, muni_name) VALUES (%s, %s);\"\"\"\n",
    "    \n",
    "    munimap = {}\n",
    "    with open(PARID_FILE) as csvfile:\n",
    "        reader = csv.reader(csvfile)\n",
    "        next(reader)\n",
    "        for row in reader:\n",
    "            if str(row[1]) not in munimap:\n",
    "                munimap[str(row[1])] = row[2]\n",
    "                \n",
    "    for k,v in munimap.items():\n",
    "        l = [k, v]\n",
    "        cursor.execute(muni_insert_sql, tuple(l))\n",
    "    db_conn.commit()\n",
    "    cursor.close()\n",
    "    print(\"Insert was a success. Fuck yeah. \")\n",
    "                \n",
    "            \n",
    "    \n",
    "if __name__ == '__main__':\n",
    "    main()"
   ]
  },
  {
   "cell_type": "code",
   "execution_count": null,
   "metadata": {},
   "outputs": [],
   "source": []
  }
 ],
 "metadata": {
  "kernelspec": {
   "display_name": "Python 3",
   "language": "python",
   "name": "python3"
  },
  "language_info": {
   "codemirror_mode": {
    "name": "ipython",
    "version": 3
   },
   "file_extension": ".py",
   "mimetype": "text/x-python",
   "name": "python",
   "nbconvert_exporter": "python",
   "pygments_lexer": "ipython3",
   "version": "3.7.4"
  }
 },
 "nbformat": 4,
 "nbformat_minor": 2
}
